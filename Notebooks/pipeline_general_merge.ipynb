{
 "cells": [
  {
   "cell_type": "markdown",
   "metadata": {},
   "source": [
    "# Pipeline de Fusion des Données\n",
    "Ce notebook permet d'exécuter le pipeline de fusion des fichiers CSV."
   ]
  },
  {
   "cell_type": "code",
   "execution_count": 1,
   "metadata": {},
   "outputs": [],
   "source": [
    "# Pipeline de Fusion des Données\n",
    "\"\"\"\n",
    "Ce notebook permet d'exécuter le pipeline de fusion des fichiers CSV.\n",
    "\"\"\"\n",
    "\n",
    "# Ajouter le chemin des Pipelines au sys.path\n",
    "import sys\n",
    "import os\n",
    "sys.path.append(os.path.abspath('../Pipelines'))\n",
    "\n",
    "# Importer le pipeline\n",
    "from pipeline_general_merge import GeneralMergePipeline"
   ]
  },
  {
   "cell_type": "code",
   "execution_count": null,
   "metadata": {},
   "outputs": [],
   "source": [
    "# Définir les chemins des fichiers CSV et vérifier leur existence\n",
    "csv_files = [\n",
    "    '/Film_recom/Datasets/movies.csv',\n",
    "    '/Film_recom/Datasets/ratings.csv',\n",
    "    '/Film_recom/Datasets/tags.csv',\n",
    "    '/Film_recom/Datasets/links.csv',\n",
    "    '/Film_recom/Datasets/genome-scores.csv',\n",
    "    '/Film_recom/Datasets/genome-tags.csv'\n",
    "]\n",
    "\n",
    "# Vérifier si les fichiers existent\n",
    "for file in csv_files:\n",
    "    if not os.path.exists(file):\n",
    "        print(f\"Attention: Le fichier {file} n'existe pas!\")\n",
    "    else:\n",
    "        print(f\"OK: {file} trouvé\")"
   ]
  },
  {
   "cell_type": "code",
   "execution_count": 3,
   "metadata": {},
   "outputs": [],
   "source": [
    "# Créer une instance du pipeline\n",
    "pipeline = GeneralMergePipeline(csv_files)"
   ]
  },
  {
   "cell_type": "code",
   "execution_count": null,
   "metadata": {},
   "outputs": [],
   "source": [
    "# Sélectionner les fichiers\n",
    "pipeline.select_files()"
   ]
  },
  {
   "cell_type": "code",
   "execution_count": null,
   "metadata": {},
   "outputs": [],
   "source": [
    "# Charger les données sélectionnées\n",
    "pipeline.load_selected_data()"
   ]
  },
  {
   "cell_type": "code",
   "execution_count": null,
   "metadata": {},
   "outputs": [],
   "source": [
    "# 3. Sélection des colonnes\n",
    "pipeline.select_columns_to_keep()"
   ]
  },
  {
   "cell_type": "code",
   "execution_count": null,
   "metadata": {},
   "outputs": [],
   "source": [
    "# Nettoyer les données\n",
    "pipeline.clean_data()"
   ]
  },
  {
   "cell_type": "code",
   "execution_count": null,
   "metadata": {},
   "outputs": [],
   "source": [
    "pipeline.merge_data()"
   ]
  },
  {
   "cell_type": "code",
   "execution_count": null,
   "metadata": {},
   "outputs": [],
   "source": [
    "# Fusionner les données\n",
    "pipeline.merge_data()"
   ]
  },
  {
   "cell_type": "markdown",
   "metadata": {},
   "source": []
  },
  {
   "cell_type": "code",
   "execution_count": null,
   "metadata": {},
   "outputs": [],
   "source": [
    "# Décrire les données\n",
    "pipeline.describe_data()"
   ]
  },
  {
   "cell_type": "code",
   "execution_count": null,
   "metadata": {},
   "outputs": [],
   "source": [
    "pipeline.analyze_duplicate_titles()"
   ]
  },
  {
   "cell_type": "code",
   "execution_count": null,
   "metadata": {},
   "outputs": [],
   "source": [
    "pipeline.analyze_extra_rows()"
   ]
  },
  {
   "cell_type": "code",
   "execution_count": null,
   "metadata": {},
   "outputs": [],
   "source": [
    "pipeline.analyze_tags()"
   ]
  },
  {
   "cell_type": "code",
   "execution_count": null,
   "metadata": {},
   "outputs": [],
   "source": [
    "# Optionnel : Récupérer les données fusionnées pour analyse supplémentaire\n",
    "merged_data = pipeline.get_data()\n",
    "if merged_data is not None:\n",
    "    print(\"\\nAperçu des données fusionnées :\")\n",
    "    display(merged_data.head())"
   ]
  },
  {
   "cell_type": "code",
   "execution_count": null,
   "metadata": {},
   "outputs": [],
   "source": []
  }
 ],
 "metadata": {
  "kernelspec": {
   "display_name": "base",
   "language": "python",
   "name": "python3"
  },
  "language_info": {
   "codemirror_mode": {
    "name": "ipython",
    "version": 3
   },
   "file_extension": ".py",
   "mimetype": "text/x-python",
   "name": "python",
   "nbconvert_exporter": "python",
   "pygments_lexer": "ipython3",
   "version": "3.11.5"
  }
 },
 "nbformat": 4,
 "nbformat_minor": 2
}
