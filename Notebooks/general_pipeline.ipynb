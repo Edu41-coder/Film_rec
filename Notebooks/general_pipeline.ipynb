{
 "cells": [
  {
   "cell_type": "code",
   "execution_count": null,
   "metadata": {},
   "outputs": [],
   "source": [
    "from general_pipeline import GeneralDataPipeline\n",
    "\n",
    "csv_files = [\n",
    "    '/Film_recom/Datasets/movies.csv',\n",
    "    '/Film_recom/Datasets/ratings.csv',\n",
    "    '/Film_recom/Datasets/tags.csv',\n",
    "    '/Film_recom/Datasets/links.csv',\n",
    "    '/Film_recom/Datasets/genome-scores.csv',\n",
    "    '/Film_recom/Datasets/genome-tags.csv'\n",
    "]\n",
    "\n",
    "for file_path in csv_files:\n",
    "    print(f\"\\n\\nTraitement du fichier : {file_path}\")\n",
    "    pipeline = GeneralDataPipeline(file_path)\n",
    "    pipeline.run_pipeline()\n",
    "    \n",
    "    # Vous pouvez accéder aux données traitées si nécessaire\n",
    "    # processed_data = pipeline.get_data()\n",
    "    # Faire quelque chose avec processed_data...\n",
    "\n",
    "print(\"\\nTous les fichiers ont été traités.\")"
   ]
  }
 ],
 "metadata": {
  "language_info": {
   "name": "python"
  }
 },
 "nbformat": 4,
 "nbformat_minor": 2
}
